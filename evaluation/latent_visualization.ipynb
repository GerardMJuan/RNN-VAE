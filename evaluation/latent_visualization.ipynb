{
 "cells": [
  {
   "cell_type": "markdown",
   "metadata": {},
   "source": [
    "## Latent visualization space\n",
    "Script for visualizing latent space for the RNNVAE. Visualization of selected dimensions, over time, testing visualization, colors, the like. Testing for multi channel\n",
    "\n"
   ]
  },
  {
   "cell_type": "code",
   "execution_count": 13,
   "metadata": {},
   "outputs": [
    {
     "name": "stdout",
     "output_type": "stream",
     "text": [
      "/homedtic/gmarti/CODE/RNN-VAE\n"
     ]
    }
   ],
   "source": [
    "#Import\n",
    "# working dir\n",
    "%cd /homedtic/gmarti/CODE/RNN-VAE/\n",
    "\n",
    "# Imports\n",
    "import sys\n",
    "sys.path.insert(0, '/homedtic/gmarti/CODE/RNN-VAE/')\n",
    "from rnnvae.utils import open_MRI_data_var\n",
    "from rnnvae import rnnvae\n",
    "from rnnvae.plot import plot_losses, plot_trajectory, plot_total_loss, plot_z_2d, plot_z_time_2d, plot_latent_space\n",
    "import os\n",
    "import math\n",
    "from rnnvae.data_gen import SinDataGenerator\n",
    "import numpy as np\n",
    "\n",
    "import seaborn as sns\n",
    "import matplotlib.pyplot as plt\n",
    "import torch\n",
    "\n",
    "%matplotlib inline"
   ]
  },
  {
   "cell_type": "code",
   "execution_count": 2,
   "metadata": {},
   "outputs": [
    {
     "name": "stdout",
     "output_type": "stream",
     "text": [
      "cuda:0\n",
      "[[('sigmoid', {'L': 1, 'k': 1, 'x0': 5}), ('sin', {'A': 1, 'f': 0.2}), ('cos', {'A': 1, 'f': 0.2})], [('sigmoid', {'L': 1, 'k': -15, 'x0': 5}), ('sigmoid', {'L': 1, 'k': 5, 'x0': 5})]]\n"
     ]
    }
   ],
   "source": [
    "# DEVICE\n",
    "## Decidint on device on device.\n",
    "DEVICE_ID = 0\n",
    "DEVICE = torch.device('cuda:' + str(DEVICE_ID) if torch.cuda.is_available() else 'cpu')\n",
    "if torch.cuda.is_available():\n",
    "    torch.cuda.set_device(DEVICE_ID)\n",
    "\n",
    "print(DEVICE)\n",
    "\n",
    "out_dir = \"experiments_mc/synth_nopadding/\"\n",
    "\n",
    "#load parameters\n",
    "p = eval(open(out_dir + \"params.txt\").read())\n",
    "print(p['curves'])\n",
    "\n",
    "model = rnnvae.MCRNNVAE(p[\"h_size\"], p[\"hidden\"], p[\"n_layers\"], \n",
    "                        p[\"hidden\"], p[\"n_layers\"], p[\"hidden\"],\n",
    "                        p[\"n_layers\"], p[\"z_dim\"], p[\"hidden\"], p[\"n_layers\"],\n",
    "                        p[\"clip\"], p[\"n_epochs\"], p[\"batch_size\"], \n",
    "                        p[\"n_channels\"], p[\"n_feats\"], p[\"model_name_dict\"], DEVICE)\n",
    "model = model.to(DEVICE)\n",
    "model.load(out_dir+'model.pt')"
   ]
  },
  {
   "cell_type": "code",
   "execution_count": 7,
   "metadata": {},
   "outputs": [],
   "source": [
    "X_samples_tensor = []\n",
    "nsamples = 500\n",
    "#generate the data\n",
    "for ch_curves in p['curves']:\n",
    "\n",
    "    gen_model = SinDataGenerator(ch_curves, p[\"ntp\"], p[\"noise\"])\n",
    "    samples = gen_model.generate_n_samples(nsamples)\n",
    "    X_samples = np.asarray([y[:1] for (_,y) in samples])\n",
    "    X_samples_tensor.append(torch.FloatTensor(X_samples).permute((1,0,2)).to(DEVICE))\n",
    "\n",
    "# Predict the reconstructions from X_val and X_train\n",
    "X_sample = model.predict(X_samples_tensor, p['ntp'])\n",
    "\n",
    "#Get the samples\n",
    "X_pred = [np.array(x).swapaxes(0,1) for x in X_sample['xnext']]\n",
    "z_sample = [np.array(x).swapaxes(0,1) for x in X_sample['z']]"
   ]
  },
  {
   "cell_type": "code",
   "execution_count": 15,
   "metadata": {},
   "outputs": [
    {
     "name": "stdout",
     "output_type": "stream",
     "text": [
      "2\n",
      "15\n"
     ]
    },
    {
     "ename": "NameError",
     "evalue": "name 'data' is not defined",
     "output_type": "error",
     "traceback": [
      "\u001b[0;31m---------------------------------------------------------------------------\u001b[0m",
      "\u001b[0;31mNameError\u001b[0m                                 Traceback (most recent call last)",
      "\u001b[0;32m<ipython-input-15-c054f67d7823>\u001b[0m in \u001b[0;36m<module>\u001b[0;34m\u001b[0m\n\u001b[1;32m     12\u001b[0m \u001b[0;34m\u001b[0m\u001b[0m\n\u001b[1;32m     13\u001b[0m plot_latent_space(model, qzx, p[\"ntp\"], classificator=classif, plt_tp='all',\n\u001b[0;32m---> 14\u001b[0;31m                   all_plots=False, uncertainty=True, savefig=True, out_dir=out_dir_sample)\n\u001b[0m",
      "\u001b[0;32m~/CODE/RNN-VAE/rnnvae/plot.py\u001b[0m in \u001b[0;36mplot_latent_space\u001b[0;34m(model, qzx, max_tp, classificator, plt_tp, text, all_plots, uncertainty, comp, savefig, out_dir)\u001b[0m\n\u001b[1;32m    188\u001b[0m     \u001b[0;31m#Classificator should correspond to the length of the data and tp indicated.\u001b[0m\u001b[0;34m\u001b[0m\u001b[0;34m\u001b[0m\u001b[0m\n\u001b[1;32m    189\u001b[0m     \"\"\"\n\u001b[0;32m--> 190\u001b[0;31m     \u001b[0mchannels\u001b[0m \u001b[0;34m=\u001b[0m \u001b[0mlen\u001b[0m\u001b[0;34m(\u001b[0m\u001b[0mqzx\u001b[0m\u001b[0;34m)\u001b[0m\u001b[0;34m\u001b[0m\u001b[0m\n\u001b[0m\u001b[1;32m    191\u001b[0m     \u001b[0mcomps\u001b[0m \u001b[0;34m=\u001b[0m \u001b[0mmodel\u001b[0m\u001b[0;34m.\u001b[0m\u001b[0mlatent\u001b[0m\u001b[0;34m\u001b[0m\u001b[0m\n\u001b[1;32m    192\u001b[0m     \u001b[0;31m#Not really used\u001b[0m\u001b[0;34m\u001b[0m\u001b[0;34m\u001b[0m\u001b[0m\n",
      "\u001b[0;31mNameError\u001b[0m: name 'data' is not defined"
     ]
    }
   ],
   "source": [
    "# Test the new function of latent space\n",
    "qzx = [np.array(x) for x in X_sample['qzx']]\n",
    "print(len(qzx))\n",
    "print(len(qzx[0]))\n",
    "# Get classificator labels, for n time points\n",
    "classif = [[i]*nsamples for i in range(p[\"ntp\"])]\n",
    "classif = [item for elem in classif for item in elem]\n",
    "\n",
    "out_dir_sample = out_dir + 'test_zspace_function/'\n",
    "if not os.path.exists(out_dir_sample):\n",
    "    os.makedirs(out_dir_sample)\n",
    "\n",
    "plot_latent_space(model, qzx, p[\"ntp\"], classificator=classif, plt_tp='all',\n",
    "                  all_plots=False, uncertainty=True, savefig=True, out_dir=out_dir_sample)"
   ]
  },
  {
   "cell_type": "code",
   "execution_count": null,
   "metadata": {},
   "outputs": [],
   "source": []
  },
  {
   "cell_type": "code",
   "execution_count": null,
   "metadata": {},
   "outputs": [],
   "source": []
  },
  {
   "cell_type": "code",
   "execution_count": null,
   "metadata": {},
   "outputs": [],
   "source": []
  }
 ],
 "metadata": {
  "kernelspec": {
   "display_name": "Python 3",
   "language": "python",
   "name": "python3"
  },
  "language_info": {
   "codemirror_mode": {
    "name": "ipython",
    "version": 3
   },
   "file_extension": ".py",
   "mimetype": "text/x-python",
   "name": "python",
   "nbconvert_exporter": "python",
   "pygments_lexer": "ipython3",
   "version": "3.6.4"
  }
 },
 "nbformat": 4,
 "nbformat_minor": 4
}
