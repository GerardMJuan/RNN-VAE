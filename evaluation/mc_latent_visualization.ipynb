{
 "cells": [
  {
   "cell_type": "markdown",
   "metadata": {},
   "source": [
    "## Latent visualization space\n",
    "Script for visualizing latent space for the RNNVAE. Visualization of selected dimensions, over time, testing visualization, colors, the like. Testing for multi channel\n",
    "\n"
   ]
  },
  {
   "cell_type": "code",
   "execution_count": 1,
   "metadata": {},
   "outputs": [
    {
     "name": "stdout",
     "output_type": "stream",
     "text": [
      "/homedtic/gmarti/CODE/RNN-VAE\n"
     ]
    }
   ],
   "source": [
    "#Import\n",
    "# working dir\n",
    "%cd /homedtic/gmarti/CODE/RNN-VAE/\n",
    "\n",
    "# Imports\n",
    "import sys\n",
    "sys.path.insert(0, '/homedtic/gmarti/CODE/RNN-VAE/')\n",
    "from rnnvae.utils import open_MRI_data_var\n",
    "from rnnvae import rnnvae\n",
    "from rnnvae.plot import plot_losses, plot_trajectory, plot_total_loss, plot_z_2d, plot_z_time_2d, plot_latent_space\n",
    "import os\n",
    "import math\n",
    "from rnnvae.data_gen import SinDataGenerator\n",
    "import numpy as np\n",
    "\n",
    "import seaborn as sns\n",
    "import matplotlib.pyplot as plt\n",
    "import torch\n",
    "\n",
    "%matplotlib inline"
   ]
  },
  {
   "cell_type": "code",
   "execution_count": 2,
   "metadata": {},
   "outputs": [
    {
     "name": "stdout",
     "output_type": "stream",
     "text": [
      "cuda:0\n",
      "[[('sigmoid', {'L': 1, 'k': 1, 'x0': 5}), ('sin', {'A': 1, 'f': 0.2}), ('cos', {'A': 1, 'f': 0.2})], [('sigmoid', {'L': 1, 'k': -15, 'x0': 5}), ('sigmoid', {'L': 1, 'k': 5, 'x0': 5})]]\n"
     ]
    }
   ],
   "source": [
    "# DEVICE\n",
    "## Decidint on device on device.\n",
    "DEVICE_ID = 0\n",
    "DEVICE = torch.device('cuda:' + str(DEVICE_ID) if torch.cuda.is_available() else 'cpu')\n",
    "if torch.cuda.is_available():\n",
    "    torch.cuda.set_device(DEVICE_ID)\n",
    "\n",
    "print(DEVICE)\n",
    "\n",
    "out_dir = \"experiments_mc/meta_synth_nopadding/_h_2_z_3_hid_10_ntp_10_n_300/\"\n",
    "\n",
    "#load parameters\n",
    "p = eval(open(out_dir + \"params.txt\").read())\n",
    "print(p['curves'])\n",
    "\n",
    "model = rnnvae.MCRNNVAE(p[\"h_size\"], p[\"hidden\"], p[\"n_layers\"], \n",
    "                        p[\"hidden\"], p[\"n_layers\"], p[\"hidden\"],\n",
    "                        p[\"n_layers\"], p[\"z_dim\"], p[\"hidden\"], p[\"n_layers\"],\n",
    "                        p[\"clip\"], p[\"n_epochs\"], p[\"batch_size\"], \n",
    "                        p[\"n_channels\"], p[\"n_feats\"], p[\"model_name_dict\"], DEVICE)\n",
    "model = model.to(DEVICE)\n",
    "model.load(out_dir+'model.pt')"
   ]
  },
  {
   "cell_type": "code",
   "execution_count": 3,
   "metadata": {},
   "outputs": [],
   "source": [
    "X_samples_tensor = []\n",
    "nsamples = 500\n",
    "#generate the data\n",
    "for ch_curves in p['curves']:\n",
    "    gen_model = SinDataGenerator(ch_curves, p[\"ntp\"], p[\"noise\"])\n",
    "    samples = gen_model.generate_n_samples(nsamples)\n",
    "    X_samples = np.asarray([y for (_,y) in samples])\n",
    "    X_samples_tensor.append(torch.FloatTensor(X_samples).permute((1,0,2)).to(DEVICE))\n",
    "\n",
    "# Predict the reconstructions from X_val and X_train\n",
    "X_sample = model.predict(X_samples_tensor, p['ntp'])\n",
    "\n",
    "#Get the samples\n",
    "X_pred = [np.array(x).swapaxes(0,1) for x in X_sample['xnext']]\n",
    "z_sample = [np.array(x).swapaxes(0,1) for x in X_sample['z']]"
   ]
  },
  {
   "cell_type": "code",
   "execution_count": 4,
   "metadata": {},
   "outputs": [
    {
     "name": "stdout",
     "output_type": "stream",
     "text": [
      "2\n",
      "10\n"
     ]
    }
   ],
   "source": [
    "# Test the new function of latent space\n",
    "qzx = [np.array(x) for x in X_sample['qzx']]\n",
    "print(len(qzx))\n",
    "print(len(qzx[0]))\n",
    "# Get classificator labels, for n time points\n",
    "classif = [[i]*nsamples for i in range(p[\"ntp\"])]\n",
    "classif = [item for elem in classif for item in elem]"
   ]
  },
  {
   "cell_type": "code",
   "execution_count": 31,
   "metadata": {},
   "outputs": [
    {
     "name": "stdout",
     "output_type": "stream",
     "text": [
      "2\n",
      "(500, 10, 3)\n",
      "2\n",
      "(500, 10, 3)\n"
     ]
    },
    {
     "data": {
      "image/png": "[encoded data removed]",
      "text/plain": [
       "<Figure size 432x288 with 1 Axes>"
      ]
     },
     "metadata": {
      "needs_background": "light"
     },
     "output_type": "display_data"
    }
   ],
   "source": [
    "# Test reconstruction of samples\n",
    "#Generate data, with different parameters\n",
    "n_rec_tp = 10\n",
    "X_samples_tensor = []\n",
    "X_samples_notensor = []\n",
    "nsamples = 500\n",
    "#generate the data\n",
    "for ch_curves in p['curves']:\n",
    "    gen_model = SinDataGenerator(ch_curves, n_rec_tp, 0)\n",
    "    samples = gen_model.generate_n_samples(nsamples)\n",
    "    X_samples = np.asarray([y for (_,y) in samples])\n",
    "    X_samples_tensor.append(torch.FloatTensor(X_samples).permute((1,0,2)).to(DEVICE))\n",
    "    X_samples_notensor.append(X_samples)\n",
    "# Predict the reconstructions from X_val and X_train\n",
    "\n",
    "X_fwd = model.predict(X_samples_tensor, n_rec_tp)\n",
    "\n",
    "#Reformulate things\n",
    "X_pred = [np.array(x).swapaxes(0,1) for x in X_sample['xnext']]\n",
    "\n",
    "print(len(X_pred))\n",
    "print(X_pred[0].shape)\n",
    "\n",
    "print(len(X_samples_notensor))\n",
    "print(X_samples_notensor[0].shape)\n",
    "\n",
    "\n",
    "feat = 2\n",
    "subj = 21\n",
    "channel = 0\n",
    "\n",
    "X_hat_line = X_pred[channel][subj,:,feat]   #Select only the subject we want\n",
    "X_samples_line = X_samples_notensor[channel][subj,:,feat]   #Select only the subject we want\n",
    "\n",
    "# Plot the two lines\n",
    "plt.plot(range(len(X_hat_line)), X_hat_line, '-b', label='X (predicted)')\n",
    "plt.plot(range(len(X_samples_line)), X_samples_line, '-r', label='X (original)')\n",
    "\n",
    "plt.xlabel(\"time-point\")\n",
    "plt.ylabel(\"value\")\n",
    "\n",
    "plt.legend(loc='upper left')\n",
    "plt.title(\"Predicted vs real\")\n",
    "plt.show()"
   ]
  },
  {
   "cell_type": "code",
   "execution_count": 37,
   "metadata": {},
   "outputs": [
    {
     "name": "stdout",
     "output_type": "stream",
     "text": [
      "2\n",
      "(500, 10, 3)\n",
      "2\n",
      "(500, 10, 3)\n",
      "(10,)\n",
      "(10,)\n"
     ]
    },
    {
     "data": {
      "image/png": "[encoded data removed]",
      "text/plain": [
       "<Figure size 432x288 with 1 Axes>"
      ]
     },
     "metadata": {
      "needs_background": "light"
     },
     "output_type": "display_data"
    }
   ],
   "source": [
    "#Reconstruct one channel from the other\n",
    "\"\"\"\n",
    "n_rec_tp = 10\n",
    "X_samples_tensor = []\n",
    "X_samples_notensor = []\n",
    "nsamples = 500\n",
    "#generate the data\n",
    "for ch_curves in p['curves']:\n",
    "    gen_model = SinDataGenerator(ch_curves, n_rec_tp, 0)\n",
    "    samples = gen_model.generate_n_samples(nsamples)\n",
    "    X_samples = np.asarray([y[:5] for (_,y) in samples])\n",
    "    X_samples_tensor.append(torch.FloatTensor(X_samples).permute((1,0,2)).to(DEVICE))\n",
    "    X_samples_notensor.append(X_samples)\n",
    "\"\"\" \n",
    "# Predict the reconstructions from X_val and X_train\n",
    "X_fwd = model.predict(X_samples_tensor, n_rec_tp, av_ch=[0])\n",
    "\n",
    "#Reformulate things\n",
    "X_fwd = [np.array(x).swapaxes(0,1) for x in X_fwd['xnext']]\n",
    "\n",
    "print(len(X_fwd))\n",
    "print(X_fwd[0].shape)\n",
    "\n",
    "print(len(X_samples_notensor))\n",
    "print(X_samples_notensor[0].shape)\n",
    "\n",
    "\n",
    "feat = 0\n",
    "subj = 21\n",
    "channel = 0\n",
    "\n",
    "X_hat_line = X_fwd[channel][subj,:,feat]   #Select only the subject we want\n",
    "X_samples_line = X_samples_notensor[channel][subj,:,feat]   #Select only the subject we want\n",
    "\n",
    "print(X_hat_line.shape)\n",
    "print(X_samples_line.shape)\n",
    "\n",
    "# Plot the two lines\n",
    "plt.plot(range(len(X_hat_line)), X_hat_line, '-b', label='X (predicted)')\n",
    "plt.plot(range(len(X_samples_line)), X_samples_line, '-r', label='X (original)')\n",
    "\n",
    "plt.xlabel(\"time-point\")\n",
    "plt.ylabel(\"value\")\n",
    "\n",
    "plt.legend(loc='upper left')\n",
    "plt.title(\"Predicted vs real\")\n",
    "plt.show()"
   ]
  },
  {
   "cell_type": "code",
   "execution_count": null,
   "metadata": {},
   "outputs": [],
   "source": []
  },
  {
   "cell_type": "code",
   "execution_count": null,
   "metadata": {},
   "outputs": [],
   "source": []
  }
 ],
 "metadata": {
  "kernelspec": {
   "display_name": "Python 3",
   "language": "python",
   "name": "python3"
  },
  "language_info": {
   "codemirror_mode": {
    "name": "ipython",
    "version": 3
   },
   "file_extension": ".py",
   "mimetype": "text/x-python",
   "name": "python",
   "nbconvert_exporter": "python",
   "pygments_lexer": "ipython3",
   "version": "3.6.4"
  }
 },
 "nbformat": 4,
 "nbformat_minor": 4
}
