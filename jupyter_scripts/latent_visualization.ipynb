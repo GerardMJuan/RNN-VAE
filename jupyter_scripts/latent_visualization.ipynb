{
 "metadata": {
  "language_info": {
   "codemirror_mode": {
    "name": "ipython",
    "version": 3
   },
   "file_extension": ".py",
   "mimetype": "text/x-python",
   "name": "python",
   "nbconvert_exporter": "python",
   "pygments_lexer": "ipython3",
   "version": "3.7.7-final"
  },
  "orig_nbformat": 2,
  "kernelspec": {
   "name": "Python 3.7.7 64-bit ('base': conda)",
   "display_name": "Python 3.7.7 64-bit ('base': conda)",
   "metadata": {
    "interpreter": {
     "hash": "664c940942bead50f8e968e6d9fcd56696fb3f28f55a0159266372205dbb8f24"
    }
   }
  }
 },
 "nbformat": 4,
 "nbformat_minor": 2,
 "cells": [
  {
   "source": [
    "## Latent visualization space\n",
    "Script for visualizing latent space for the RNNVAE. Visualization of selected dimensions, over time, testing visualization, colors, the like.\n",
    "\n",
    "WARNING: messy Script"
   ],
   "cell_type": "markdown",
   "metadata": {}
  },
  {
   "cell_type": "code",
   "execution_count": null,
   "metadata": {},
   "outputs": [],
   "source": [
    "# Imports\n",
    "import sys\n",
    "import os\n",
    "sys.path.insert(0, os.path.abspath('./'))\n",
    "import math\n",
    "import torch\n",
    "import torch.nn as nn\n",
    "import numpy as np\n",
    "import torch.utils\n",
    "import torch.utils.data\n",
    "from torchvision import datasets, transforms\n",
    "from torch.autograd import Variable\n",
    "from rnnvae.rnnvae import ModelRNNVAE\n",
    "from sklearn.metrics import mean_absolute_error\n",
    "from rnnvae.utils import open_MRI_data_var\n",
    "from rnnvae.plot import plot_losses, plot_trajectory, plot_total_loss, pl\n",
    "\n",
    "import seaborn as sns\n",
    "import matplotlib.pyplot as plt\n",
    "%matplotlib inline"
   ]
  },
  {
   "cell_type": "code",
   "execution_count": null,
   "metadata": {},
   "outputs": [],
   "source": [
    "# Parameters, and load existing model\n",
    "#hyperparameters\n",
    "x_size = 40\n",
    "h_size = 20\n",
    "z_dim = 5\n",
    "hidden = 5\n",
    "n_layers = 1\n",
    "n_epochs = 100\n",
    "clip = 10\n",
    "learning_rate = 1e-3\n",
    "batch_size = 128\n",
    "seed = 1714\n",
    "\n",
    "# out_dir\n",
    "out_dir = \"experiments/base_test/\"\n",
    "if not os.path.exists(out_dir):\n",
    "    os.makedirs(out_dir)\n",
    "\n",
    "model = ModelRNNVAE(x_size, h_size, hidden, n_layers, \n",
    "                     hidden, n_layers, hidden,\n",
    "                     n_layers, z_dim, hidden, n_layers,\n",
    "                     clip, n_epochs, batch_size)\n",
    "\n",
    "model.load(out_dir, 'model.pt')"
   ]
  },
  {
   "cell_type": "code",
   "execution_count": null,
   "metadata": {},
   "outputs": [],
   "source": [
    "#Load data and predict\n",
    "# LOAD DATA\n",
    "#TODO: here we should load, someway, the labels corresponding to the subjects\n",
    "# add a flag to the function to return them or something\n",
    "#I would like to get, at least, age and dx\n",
    "csv_path = \"data/tadpole_mrionly.csv\"\n",
    "X_train, X_test = open_MRI_data_var(csv_path, train_set=0.8, normalize=True)\n",
    "\n",
    "nfeatures = X_train[0].shape[1]\n",
    "\n",
    "# Apply padding to both X_train and X_val\n",
    "X_train_tensor = [ torch.FloatTensor(t) for t in X_train ]\n",
    "X_train_pad = nn.utils.rnn.pad_sequence(X_train_tensor, batch_first=False)\n",
    "X_test_tensor = [ torch.FloatTensor(t) for t in X_test ]\n",
    "X_test_pad = nn.utils.rnn.pad_sequence(X_test_tensor, batch_first=False)\n",
    "\n",
    "max_timepoints = X_train_pad.shape[0]\n",
    "# Those datasets are of size [Tmax, Batch_size, nfeatures]\n",
    "\n",
    "# Save mask to unpad later when testing\n",
    "mask_train = X_train_pad > 0\n",
    "mask_test = X_test_pad > 0\n",
    "\n",
    "# Predict the reconstructions from X_val and X_train\n",
    "X_test_fwd = model.predict(X_test_pad)\n",
    "X_train_fwd = model.predict(X_train_pad)"
   ]
  },
  {
   "source": [
    "Now start testing on the actual latent space. I want to program three main ways of latent space visualization:\n",
    "\n",
    "1. Classic latent space visualization: selecting a specific time point and two specific latent dimensions, plot a 2D projection. Color by diagnosis? or by what?\n",
    "\n",
    "2. Trajectory: for a specific latent dimension z_t, plot a 2d line over all timepoints. Plot all the subjects as lines, then try to visualize a general trajectory for that dimension? Maybe make the function flexible enough to \n",
    "\n",
    "3. Trajectory on 2D space: for two specific dimensions, plot a 2d space with all the timepoints z, and color the z by timepoints. See if there is a structure in the time over the selected dimensions of the latent space."
   ],
   "cell_type": "markdown",
   "metadata": {}
  },
  {
   "cell_type": "code",
   "execution_count": 1,
   "metadata": {},
   "outputs": [],
   "source": [
    "#First get the latent space\n",
    "#Note that we have to apply the mask all the same!\n",
    "\n",
    "z_train = X_train_fwd['zx']\n",
    "z_test = X_test_fwd['zx']\n",
    "\n",
    "z_train = np.array([Z[mask_train[:,i,:]].reshape((-1, nfeatures)).detach().numpy() for (i, Z) in enumerate(z_train)])\n",
    "z_test = np.array([Z[mask_train[:,i,:]].reshape((-1, nfeatures)).detach().numpy() for (i, Z) in enumerate(z_train)])\n"
   ]
  },
  {
   "cell_type": "code",
   "execution_count": null,
   "metadata": {},
   "outputs": [],
   "source": [
    "##1 Classic latent space visualization\n",
    "dim0 = 0\n",
    "dim1 = 1\n",
    "z_t = 6\n",
    "\n",
    "#prepare the data\n",
    "train_z_d0 = np.array([x[z_t, dim0] if x.shape[0] > z_t else continue for x in z_train])\n",
    "train_z_d1 = np.array([x[z_t, dim1] if x.shape[0] > z_t else continue for x in z_train])\n",
    "\n",
    "test_z_d0 = np.array([x[z_t, dim0] if x.shape[0] > z_t else continue for x in z_test])\n",
    "test_z_d1 = np.array([x[z_t, dim1] if x.shape[0] > z_t else continue for x in z_test])\n",
    "\n",
    "#plot latent space\n",
    "#plot both train and test together?\n",
    "plt.figure()\n",
    "sns.scatterplot(x=train_z_d0, y=train_z_d1)\n",
    "sns.scatterplot(x=test_z_d0, y=test_z_d1)\n",
    "plt.show()\n",
    "#plt.savefig(f'{out_dir}/latent_space.png')\n",
    "#plt.close()\n",
    "\n",
    "\n"
   ]
  },
  {
   "cell_type": "code",
   "execution_count": null,
   "metadata": {},
   "outputs": [],
   "source": [
    "# 2 Trajectory latent space visualization\n",
    "dim = 0\n",
    "\n",
    "#prepare the data\n",
    "train_z_d0 = [x[:, dim0] if x.shape[0] > z_t else continue for x in z_train]\n",
    "test_z_d0 = [x[:, dim0] if x.shape[0] > z_t else continue for x in z_test]\n",
    "\n",
    "plt.figure()\n",
    "\n",
    "#plot all lines\n",
    "#regarding the x axis: maybe it make sense to not use timepoints but...\n",
    "#age?\n",
    "# time from baseline?\n",
    "#age probably is best\n",
    "for line in train_z_d0:\n",
    "    plt.plot(list(range(len(line))), line)\n",
    "\n",
    "#compute an approximation\n",
    "#interpolate for the cases where we do not have enough points\n",
    "#from  https://stackoverflow.com/questions/51933785/getting-a-mean-curve-of-several-curves-with-x-values-not-being-the-same?noredirect=1&lq=1\n",
    "\n",
    "mean_x_axis = list(range(max_timepoints))\n",
    "ys_interp = [np.interp(mean_x_axis, list(range(len(x[:, i]))), x[:, i]) for x in train_z_d0]\n",
    "mean_y_axis = np.mean(ys_interp, axis=0)\n",
    "\n",
    "#plot it too\n",
    "plt.plot(mean_x_axis, mean_y_axis)\n",
    "plt.show()"
   ]
  },
  {
   "cell_type": "code",
   "execution_count": null,
   "metadata": {},
   "outputs": [],
   "source": [
    "#3 2D Trajectory latent space visualization\n",
    "dim0=0\n",
    "dim1=1\n",
    "\n",
    "plt.figure()\n",
    "\n",
    "# create color cmap\n",
    "pallete = sns.color_palette(\"viridis\", max_timepoints)\n",
    "\n",
    "for tp in range(max_timepoints):\n",
    "\n",
    "    train_z_d0 = [x[tp, dim0] if x.shape[0] > z_t else continue for x in z_train]\n",
    "    test_z_d0 = [x[tp, dim0] if x.shape[0] > z_t else continue for x in z_test]\n",
    "\n",
    "    train_z_d1 = [x[tp, dim1] if x.shape[0] > z_t else continue for x in z_train]\n",
    "    test_z_d1 = [x[tp, dim1] if x.shape[0] > z_t else continue for x in z_test]\n",
    "\n",
    "    #but color by timepoint\n",
    "    sns.scatterplot(x=train_z_d0, y=train_z_d1, color=pallete[tp])\n",
    "    sns.scatterplot(x=test_z_d0, y=test_z_d1, color=pallete[tp])\n",
    "\n",
    "plt.show()\n",
    "\n"
   ]
  }
 ]
}